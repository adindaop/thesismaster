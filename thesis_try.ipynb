{
 "cells": [
  {
   "cell_type": "code",
   "execution_count": 2,
   "metadata": {},
   "outputs": [
    {
     "name": "stdout",
     "output_type": "stream",
     "text": [
      "0    buku pertama tere-liye yang saya baca. covernya menarik. saya suka filosofi daun yang jatuh tidak pernah membenci angin, menurut saya memiliki makna mendalam untuk senantiasa ikhlas dalam hidup. saya pikir buku ini bercerita tentang perjuangan hidup, awalnya. saya tidak merasakan kentalnya perjuangan hidup seorang gadis miskin, tania yang bekerja sebagai pengamen jalanan untuk keluarganya. tadinya saya berharap buku ini akan konflik keluarga miskin yang bertahan untuk hidup layak. keluarga miskin yang ingin maju.namun buku ini justru lebih menceritakan tentang bagaimana tania, pada akhirnya jatuh cinta kepada malaikat penolongnya, danar. dalam buku ini dijelaskan,betapa tania merupakan perempuan yang dewasa bahkan pada usianya yang masih muda. namun behaviour yang ditunjukkan tania seringkali berlawanan. tania masih sangat kekanak-kanakan, ditunjukkan dengan gaya bahasa orang pertama dari sudut pandang tania. bagi saya, kedewasaan ditunjukkan dengan keputusan keputusan yang dia ambil, bukan dari penjelasan dari si tokoh sendiri. biar pembaca yang menilai. karakter danar, sang pahlawan pun tidak seksatria sosok pahlawan. mungkin karena pengaruh penggunaan sudut pandang pertama tania tidak mampu menggambarkan karakter seorang danar, sehingga pembaca tidak begitu mengenal danar. selalu tania. bagi usianya yang matang, danar rapuh. kecewa sebenarnya dengan karakter danar ini, seandainya saja penulis mengizinkan kita untuk lebih mengenal danar, bagaimana masa lalu membentuknya menjadi sedemikian rupa. saya justru kagum pada tokoh ratna. gaya bahasa secara umum mengalir dengan baik. penggambaran suasanya juga lumayan.\n",
      "['buku', 'tere-liye', 'baca', 'covernya', 'menarik', 'suka', 'filosofi', 'daun', 'jatuh', 'membenci', 'angin', 'memiliki', 'makna', 'mendalam', 'senantiasa', 'ikhlas', 'hidup', 'pikir', 'buku', 'bercerita', 'perjuangan', 'hidup', 'merasakan', 'kentalnya', 'perjuangan', 'hidup', 'gadis', 'miskin', 'tania', 'pengamen', 'jalanan', 'keluarganya', 'berharap', 'buku', 'konflik', 'keluarga', 'miskin', 'bertahan', 'hidup', 'layak', 'keluarga', 'miskin', 'maju.namun', 'buku', 'menceritakan', 'tania', 'jatuh', 'cinta', 'malaikat', 'penolongnya', 'danar', 'buku', 'betapa', 'tania', 'perempuan', 'dewasa', 'usianya', 'muda', 'behaviour', 'tania', 'seringkali', 'berlawanan', 'tania', 'kekanak-kanakan', 'gaya', 'bahasa', 'orang', 'sudut', 'pandang', 'tania', 'kedewasaan', 'keputusan', 'keputusan', 'ambil', 'penjelasan', 'si', 'tokoh', 'biar', 'pembaca', 'menilai', 'karakter', 'danar', 'sang', 'pahlawan', 'seksatria', 'sosok', 'pahlawan', 'pengaruh', 'penggunaan', 'sudut', 'pandang', 'tania', 'menggambarkan', 'karakter', 'danar', 'pembaca', 'mengenal', 'danar', 'tania', 'usianya', 'matang', 'danar', 'rapuh', 'kecewa', 'karakter', 'danar', 'seandainya', 'penulis', 'mengizinkan', 'mengenal', 'danar', 'membentuknya', 'rupa', 'kagum', 'tokoh', 'ratna', 'gaya', 'bahasa', 'mengalir', 'penggambaran', 'suasanya', 'lumayan', 'Name', 'lower_desc', 'dtype', 'object']\n",
      "buku tere-liye baca covernya tarik suka filosofi daun jatuh benci angin milik makna dalam senantiasa ikhlas hidup pikir buku cerita juang hidup rasa kental juang hidup gadis miskin tania amen jalan keluarga harap buku konflik keluarga miskin tahan hidup layak keluarga miskin maju namun buku cerita tania jatuh cinta malaikat tolong danar buku betapa tania perempuan dewasa usia muda behaviour tania seringkali lawan tania kekanak-kanakan gaya bahasa orang sudut pandang tania dewasa putus putus ambil jelas si tokoh biar baca nilai karakter danar sang pahlawan ksatria sosok pahlawan pengaruh guna sudut pandang tania gambar karakter danar baca kenal danar tania usia matang danar rapuh kecewa karakter danar anda tulis izin kenal danar bentuk rupa kagum tokoh ratna gaya bahasa alir gambar suasa lumayan name lower desc dtype object\n"
     ]
    }
   ],
   "source": [
    "import pandas as pd\n",
    "import nltk\n",
    "from nltk.corpus import stopwords\n",
    "from nltk.tokenize import word_tokenize\n",
    "from Sastrawi.Stemmer.StemmerFactory import StemmerFactory\n",
    "\n",
    "# intialise data of lists.\n",
    "data = {'No':['99'],\n",
    "        'Reviews':['Buku pertama Tere-Liye yang saya baca. Covernya menarik. Saya suka filosofi daun yang jatuh tidak pernah membenci angin, menurut saya memiliki makna mendalam untuk senantiasa ikhlas dalam hidup. Saya pikir buku ini bercerita tentang perjuangan hidup, awalnya. Saya tidak merasakan kentalnya perjuangan hidup seorang gadis miskin, Tania yang bekerja sebagai pengamen jalanan untuk keluarganya. Tadinya saya berharap buku ini akan konflik keluarga miskin yang bertahan untuk hidup layak. Keluarga miskin yang ingin maju.Namun buku ini justru lebih menceritakan tentang bagaimana Tania, pada akhirnya jatuh cinta kepada malaikat penolongnya, Danar. Dalam buku ini dijelaskan,betapa Tania merupakan perempuan yang dewasa bahkan pada usianya yang masih muda. Namun behaviour yang ditunjukkan Tania seringkali berlawanan. Tania masih sangat kekanak-kanakan, ditunjukkan dengan gaya bahasa orang pertama dari sudut pandang Tania. Bagi saya, kedewasaan ditunjukkan dengan keputusan keputusan yang dia ambil, bukan dari penjelasan dari si tokoh sendiri. Biar pembaca yang menilai. Karakter Danar, sang pahlawan pun tidak seksatria sosok pahlawan. Mungkin karena pengaruh penggunaan sudut pandang pertama Tania tidak mampu menggambarkan karakter seorang Danar, sehingga pembaca tidak begitu mengenal Danar. Selalu Tania. Bagi usianya yang matang, Danar rapuh. Kecewa sebenarnya dengan karakter Danar ini, seandainya saja penulis mengizinkan kita untuk lebih mengenal Danar, bagaimana masa lalu membentuknya menjadi sedemikian rupa. Saya justru kagum pada tokoh Ratna. Gaya bahasa secara umum mengalir dengan baik. Penggambaran suasanya juga lumayan.']}\n",
    "df = pd.DataFrame(data) # create dataframe\n",
    "pd.options.display.max_colwidth = 10000 # option to print full text\n",
    "#print(df) # print the output\n",
    "df['lower_desc'] = list(map(lambda x: x.lower(), df['Reviews'])) # case folding\n",
    "print(df['lower_desc'].to_string()) # print case folding output\n",
    "\n",
    "texts = []\n",
    "stop_words = set(stopwords.words(\"indonesian\")) #remove stopwords and punctuation \n",
    "tokenize_word = word_tokenize(str(df['lower_desc'])) #tokenizing\n",
    "for w in tokenize_word:\n",
    "    if w not in stop_words:\n",
    "        texts.append(w)\n",
    "print(texts)\n",
    "\n",
    "#stemming\n",
    "factory = StemmerFactory()\n",
    "stemmer = factory.create_stemmer()\n",
    "base_word = []\n",
    "for a in texts:\n",
    "    base_word = stemmer.stem(str(texts))\n",
    "print(base_word)\n",
    "    \n",
    "\n"
   ]
  },
  {
   "cell_type": "code",
   "execution_count": 11,
   "metadata": {},
   "outputs": [
    {
     "name": "stdout",
     "output_type": "stream",
     "text": [
      "[[155   2]\n",
      " [  0 118]]\n",
      "              precision    recall  f1-score   support\n",
      "\n",
      "           0       1.00      0.99      0.99       157\n",
      "           1       0.98      1.00      0.99       118\n",
      "\n",
      "   micro avg       0.99      0.99      0.99       275\n",
      "   macro avg       0.99      0.99      0.99       275\n",
      "weighted avg       0.99      0.99      0.99       275\n",
      "\n",
      "0.9927272727272727\n"
     ]
    }
   ],
   "source": [
    "import pandas as pd\n",
    "import numpy as np\n",
    "from sklearn.model_selection import train_test_split\n",
    "from sklearn.preprocessing import StandardScaler\n",
    "from sklearn.ensemble import RandomForestRegressor\n",
    "from sklearn.metrics import classification_report, confusion_matrix, accuracy_score\n",
    "\n",
    "dataset = pd.read_csv(\"/home/adinda/Downloads/bill_authentication.csv\")\n",
    "\n",
    "X = dataset.iloc[:, 0:4].values  \n",
    "y = dataset.iloc[:, 4].values \n",
    "\n",
    "X_train, X_test, y_train, y_test = train_test_split(X, y, test_size=0.2, random_state=0)\n",
    "\n",
    "sc = StandardScaler()  \n",
    "X_train = sc.fit_transform(X_train)  \n",
    "X_test = sc.transform(X_test) \n",
    "\n",
    "\n",
    "regressor = RandomForestRegressor(n_estimators=20, random_state=0)  \n",
    "regressor.fit(X_train, y_train)  \n",
    "y_pred = regressor.predict(X_test)\n",
    "\n",
    "print(confusion_matrix(y_test,y_pred.round()))  \n",
    "print(classification_report(y_test,y_pred.round()))  \n",
    "print(accuracy_score(y_test, y_pred.round()))"
   ]
  }
 ],
 "metadata": {
  "kernelspec": {
   "display_name": "Python 3",
   "language": "python",
   "name": "python3"
  },
  "language_info": {
   "codemirror_mode": {
    "name": "ipython",
    "version": 3
   },
   "file_extension": ".py",
   "mimetype": "text/x-python",
   "name": "python",
   "nbconvert_exporter": "python",
   "pygments_lexer": "ipython3",
   "version": "3.6.7"
  }
 },
 "nbformat": 4,
 "nbformat_minor": 2
}
